{
  "nbformat": 4,
  "nbformat_minor": 0,
  "metadata": {
    "colab": {
      "name": "How to get started coding in Python?.ipynb",
      "provenance": [],
      "include_colab_link": true
    },
    "kernelspec": {
      "name": "python3",
      "display_name": "Python 3"
    }
  },
  "cells": [
    {
      "cell_type": "markdown",
      "metadata": {
        "id": "view-in-github",
        "colab_type": "text"
      },
      "source": [
        "<a href=\"https://colab.research.google.com/github/Tanu-N-Prabhu/Python/blob/master/How_to_get_started_coding_in_Python%3F.ipynb\" target=\"_parent\"><img src=\"https://colab.research.google.com/assets/colab-badge.svg\" alt=\"Open In Colab\"/></a>"
      ]
    },
    {
      "cell_type": "markdown",
      "metadata": {
        "id": "wdVrlulte9LB",
        "colab_type": "text"
      },
      "source": [
        "# How to get started coding in Python?\n"
      ]
    },
    {
      "cell_type": "markdown",
      "metadata": {
        "id": "jX699xHhe9-X",
        "colab_type": "text"
      },
      "source": [
        "## Let us understand how to become a good python programmer from scratch.\n"
      ]
    },
    {
      "cell_type": "markdown",
      "metadata": {
        "id": "ogiVNJ39fAGq",
        "colab_type": "text"
      },
      "source": [
        "![alt text](https://miro.medium.com/max/1125/1*qIc8c-GslXx5yIiudcvU_A.jpeg)"
      ]
    },
    {
      "cell_type": "markdown",
      "metadata": {
        "id": "4DplercAg8Sl",
        "colab_type": "text"
      },
      "source": [
        "So friends let us learn all the things that you need to get started before actually coding in python and what all things that you need to know to become a good python programmer, what resources you need to master the programming language. This is not a coding tutorial, I will not be teaching you guys how to code in Python, rather I will share you some ideas, resources brief through some steps that you need to follow to become a good programmer. I’ll try not to make you feel bored, I’ll provide you with all the links of tutorials, books, GitHub repositories, and many more. Because it doesn’t matter how you learn the content but all that matters is whether you know the concepts. Don’t worry for all those beginners who have never coded in python before this tutorial is mainly for you, because this is the right place to get started. I will give you insights about my experience and make you master python programming. I’m again repeating this is not a coding tutorial because I cannot teach you python from scratch in one stretch, however, I will provide you enough content to get you started."
      ]
    },
    {
      "cell_type": "markdown",
      "metadata": {
        "id": "spt4OLr6g-2z",
        "colab_type": "text"
      },
      "source": [
        "**There are some important steps that I have listed down below to get you started as a python programmer:**"
      ]
    },
    {
      "cell_type": "markdown",
      "metadata": {
        "id": "Khd51F4GhCC9",
        "colab_type": "text"
      },
      "source": [
        "![alt text](https://miro.medium.com/max/839/1*BRLmnqAA5nyz6_TVoX1eAA.png)"
      ]
    },
    {
      "cell_type": "markdown",
      "metadata": {
        "id": "uD63bTu9hECQ",
        "colab_type": "text"
      },
      "source": [
        "## 1. Installing Python\n",
        "One of the first thing that you must do before starting to learn python is to install python on your Windows or Mac OS X or other platforms is click on the link given below to download:"
      ]
    },
    {
      "cell_type": "markdown",
      "metadata": {
        "id": "_tsIZnR5hI-W",
        "colab_type": "text"
      },
      "source": [
        "**For Windows: [Download](https://www.python.org/downloads/windows/?source=post_page-----41fa7ea5106b----------------------)**"
      ]
    },
    {
      "cell_type": "markdown",
      "metadata": {
        "id": "y3aqIEnlhPXU",
        "colab_type": "text"
      },
      "source": [
        "**For Mac OS X: [Download](https://www.python.org/downloads/mac-osx/?source=post_page-----41fa7ea5106b----------------------)**"
      ]
    },
    {
      "cell_type": "markdown",
      "metadata": {
        "id": "MT4gy9EghWpb",
        "colab_type": "text"
      },
      "source": [
        "**For other platforms: [Download](https://www.python.org/download/other/?source=post_page-----41fa7ea5106b----------------------)**"
      ]
    },
    {
      "cell_type": "markdown",
      "metadata": {
        "id": "8qSnWlj2hcxb",
        "colab_type": "text"
      },
      "source": [
        "Make sure you download the latest stable version because it’s a good habit to download and install the latest version every time, and python release a new stable version almost every month. Also, I recommend you to download python 3 because python 3 is the incremental version of python 2 and python 3 has a lot of more convenient features than python 2.\n",
        "\n",
        "\n",
        "---\n",
        "\n"
      ]
    },
    {
      "cell_type": "markdown",
      "metadata": {
        "id": "f2UfvKJ8hfmX",
        "colab_type": "text"
      },
      "source": [
        "## 2. Install the IDE\n",
        "As of now, you know an IDE is an Integrated Development Environment, which allows you to compile and execute different programming languages. Now firstly I would recommend you all to download the IDE called PyCharm. PyCharm is an IDE developed by Jet Brains. Probably one of the best IDE’s on the planet, very easy to use and practice your code. I would recommend you to download it from the link below also you can also run python programs on your [command prompt](https://swcarpentry.github.io/python-novice-inflammation/10-cmdline/index.html) or using [anaconda](https://docs.anaconda.com/anaconda/user-guide/getting-started/) but PyCharm is the best and the easy to program:"
      ]
    },
    {
      "cell_type": "markdown",
      "metadata": {
        "id": "wGp1y9pIhsin",
        "colab_type": "text"
      },
      "source": [
        "**For Windows: [Download](https://www.jetbrains.com/pycharm/download/?source=post_page-----41fa7ea5106b----------------------#section=windows)**"
      ]
    },
    {
      "cell_type": "markdown",
      "metadata": {
        "id": "7Z1J2jLsh1W1",
        "colab_type": "text"
      },
      "source": [
        "**For Mac: [Download](https://www.jetbrains.com/pycharm/download/?source=post_page-----41fa7ea5106b----------------------#section=mac)**"
      ]
    },
    {
      "cell_type": "markdown",
      "metadata": {
        "id": "ZDTg5eSKh64A",
        "colab_type": "text"
      },
      "source": [
        "**For Linux: [Download](https://www.jetbrains.com/pycharm/download/?source=post_page-----41fa7ea5106b----------------------#section=linux)**"
      ]
    },
    {
      "cell_type": "markdown",
      "metadata": {
        "id": "9zVzKNztiCUx",
        "colab_type": "text"
      },
      "source": [
        "Now I will also provide the link to the tips and tricks of using PyCharm IDE provided by the official JetBrains can be found below:\n",
        "\n",
        "[Tips and Tricks](https://www.jetbrains.com/pycharm/guide/playlists/42/?source=post_page-----41fa7ea5106b----------------------)\n",
        "\n",
        "\n",
        "\n",
        "---\n",
        "\n"
      ]
    },
    {
      "cell_type": "markdown",
      "metadata": {
        "id": "-Nvn6LwEiJT5",
        "colab_type": "text"
      },
      "source": [
        "## 3. Learn from online tutorial and books\n",
        "Obviously you cannot master a programming language just by learning on your own, you must and should read some textbooks or articles online. There are some of the best textbooks available on the internet. I recommend you guys to go through them and learn the material. Try to learn bit by bit, you cannot finish reading the entire textbook in one day. It takes time to finish, now below I have given few links for the best textbooks according to me, Now you need not buy them but you can read them offline by downloading whose link is provided down below."
      ]
    },
    {
      "cell_type": "markdown",
      "metadata": {
        "id": "B4W3U951iRW0",
        "colab_type": "text"
      },
      "source": [
        "**1) The Hitchhiker’s Guide to Python!**\n",
        "\n",
        "[Download](http://index-of.es/Varios-2/The%20Hitchiker%27s%20Guide%20to%20Python.pdf)\n",
        "\n",
        "**2) Headfirst Python 2nd Edition**\n",
        "\n",
        "[Download](https://doc.lagout.org/programmation/python/Head%20First%20Python%20%5BBarry%202010-11%5D.pdf)\n",
        "\n",
        "\n",
        "**3) Think Python**\n",
        "\n",
        "[Download](https://greenteapress.com/thinkpython2/thinkpython2.pdf)\n",
        "\n",
        "**4) Learn Python the Hard Way**\n",
        "\n",
        "[Download](http://ptgmedia.pearsoncmg.com/images/9780134123486/samplepages/9780134123486_exercises%206and40.pdf)\n",
        "\n",
        "**5) Fluent Python**\n",
        "\n",
        "[Download](https://evanli.github.io/programming-book-3/Python/Fluent%20Python.pdf)\n",
        "\n",
        "Now let us see some best articles to master your python programming skills. According to there are a ton of different articles and publishers available on the internet today. The best articles are:\n",
        "\n",
        "**1. Towards Data Science**\n",
        "\n",
        "[Visit Here](https://medium.com/search?q=Python)\n",
        "\n",
        "**2. Real Python**\n",
        "\n",
        "[Visit Here](https://realpython.com/start-here/?source=post_page-----41fa7ea5106b----------------------)\n",
        "\n",
        "**3. Python.org**\n",
        "\n",
        "[Visit Here](https://docs.python.org/3/tutorial/index.html?source=post_page-----41fa7ea5106b----------------------)\n",
        "\n",
        "**4. GitHub**\n",
        "\n",
        "[Visit Here](https://github.com/geekcomputers/Python?source=post_page-----41fa7ea5106b----------------------)\n",
        "\n",
        "Adding to this list there is a GitHub repository which is also a good approach to read stuff online. Often in the future even when you know more stuff you should work on GitHub and share your ideas with the world.\n",
        "\n",
        "\n",
        "\n",
        "---\n",
        "\n"
      ]
    },
    {
      "cell_type": "markdown",
      "metadata": {
        "id": "OI0rvaeRj3_Y",
        "colab_type": "text"
      },
      "source": [
        "## 4. Practice and Run the programs on your IDE\n",
        "Now, this step is obvious because just think now you know what you should do, you are learning all the materials and now the only thing pending is to type and run your programs. This is a must because many students especially learn the concepts but they never type and run the programs, because often when you type the programs, there are chances that when you run the programs, you get errors on your screen, with this you can see and learn what type of errors you get. Don’t worry when you get an error or when you have a doubt, there is one place which will always help you.\n",
        "\n",
        "**[Stack Overflow](https://stackoverflow.com/questions/tagged/python?source=post_page-----41fa7ea5106b----------------------)**\n",
        "\n",
        "So please type in the programs and feel the joy when it successfully executes.\n",
        "\n",
        "---\n",
        "\n"
      ]
    },
    {
      "cell_type": "markdown",
      "metadata": {
        "id": "gRh9131bkENH",
        "colab_type": "text"
      },
      "source": [
        "## 5. Document your way on GitHub\n",
        "This is one of the most important that every programmer must start doing, [GitHub](https://github.com) is like a resume for programmers because it speaks and shows your work. So make sure you create a GitHub repository the moment you learn to program. Try to provide a good read.me (Read.me file is a description file that tells what is your repository about- Don’t worry you will get used to it when you use it) file and keep it updated. Who knows who might read your GitHub Repository and maybe sometimes they hire you to work for them. If you don’t know how to create and work with GitHub, then watch the video down below:\n",
        "\n",
        "[YouTube Video](https://www.youtube.com/watch?time_continue=1547&v=73I5dRucCds)\n",
        "\n",
        "As you have now noticed you have knowingly or unknowingly reached the end of my tutorial (Check the flowchart in the beginning). Now I have tried my level best to give you guys all the resources, tools and guidance, the ball is in your court to decide what you want to do with it. Now if you guys want to see my GitHub repository and learn something new from it, please see below:\n",
        "\n",
        "[GitHub Repository](https://github.com/Tanu-N-Prabhu/Python?source=post_page-----41fa7ea5106b----------------------)\n",
        "\n",
        "Thank you guys for reading my article, if you have any doubts regarding anything Python just let me know via the comment section, I will respond to it within minutes or not years (just kidding). All right put the pedal to the metal and program. See you, have a good day.\n",
        "\n",
        "![alt text](https://miro.medium.com/max/600/1*oJw96Mrcm4bGFu2zyBDJMg.gif)\n",
        "\n",
        "\n",
        "\n",
        "---\n",
        "\n"
      ]
    }
  ]
}